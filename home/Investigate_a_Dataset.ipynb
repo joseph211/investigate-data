{
 "cells": [
  {
   "cell_type": "markdown",
   "metadata": {},
   "source": [
    "\n",
    "\n",
    "# Project: TMDB Movies Data Set\n",
    "\n",
    "## Table of Contents\n",
    "<ul>\n",
    "<li><a href=\"#intro\">Introduction</a></li>\n",
    "<li><a href=\"#wrangling\">Data Wrangling</a></li>\n",
    "<li><a href=\"#eda\">Exploratory Data Analysis</a></li>\n",
    "<li><a href=\"#conclusions\">Conclusions</a></li>\n",
    "</ul>"
   ]
  },
  {
   "cell_type": "markdown",
   "metadata": {},
   "source": [
    "<a id='intro'></a>\n",
    "## Introduction\n",
    "\n",
    "This dataset contains list of 10,000 movies data set from different categories collected from the movies database (TMDb). TMDb is a movie database which was introduced in 2008 which has trending trailers,Tv series etc.\n",
    "\n"
   ]
  },
  {
   "cell_type": "code",
   "execution_count": 2,
   "metadata": {},
   "outputs": [],
   "source": [
    "\n",
    "import pandas as pd\n",
    "import numpy as np\n",
    "import matplotlib.pyplot as plt\n",
    "import seaborn as sns\n",
    "% matplotlib inline\n"
   ]
  },
  {
   "cell_type": "markdown",
   "metadata": {},
   "source": [
    "<a id='wrangling'></a>\n",
    "## Data Wrangling\n",
    "\n",
    "> **Tip**: In this section of the report, you will load in the data, check for cleanliness, and then trim and clean your dataset for analysis. Make sure that you document your steps carefully and justify your cleaning decisions.\n",
    "\n",
    "### General Properties"
   ]
  },
  {
   "cell_type": "code",
   "execution_count": 3,
   "metadata": {},
   "outputs": [
    {
     "data": {
      "text/html": [
       "<div>\n",
       "<style scoped>\n",
       "    .dataframe tbody tr th:only-of-type {\n",
       "        vertical-align: middle;\n",
       "    }\n",
       "\n",
       "    .dataframe tbody tr th {\n",
       "        vertical-align: top;\n",
       "    }\n",
       "\n",
       "    .dataframe thead th {\n",
       "        text-align: right;\n",
       "    }\n",
       "</style>\n",
       "<table border=\"1\" class=\"dataframe\">\n",
       "  <thead>\n",
       "    <tr style=\"text-align: right;\">\n",
       "      <th></th>\n",
       "      <th>id</th>\n",
       "      <th>imdb_id</th>\n",
       "      <th>popularity</th>\n",
       "      <th>budget</th>\n",
       "      <th>revenue</th>\n",
       "      <th>original_title</th>\n",
       "      <th>cast</th>\n",
       "      <th>homepage</th>\n",
       "      <th>director</th>\n",
       "      <th>tagline</th>\n",
       "      <th>...</th>\n",
       "      <th>overview</th>\n",
       "      <th>runtime</th>\n",
       "      <th>genres</th>\n",
       "      <th>production_companies</th>\n",
       "      <th>release_date</th>\n",
       "      <th>vote_count</th>\n",
       "      <th>vote_average</th>\n",
       "      <th>release_year</th>\n",
       "      <th>budget_adj</th>\n",
       "      <th>revenue_adj</th>\n",
       "    </tr>\n",
       "  </thead>\n",
       "  <tbody>\n",
       "    <tr>\n",
       "      <th>0</th>\n",
       "      <td>135397</td>\n",
       "      <td>tt0369610</td>\n",
       "      <td>32.985763</td>\n",
       "      <td>150000000</td>\n",
       "      <td>1513528810</td>\n",
       "      <td>Jurassic World</td>\n",
       "      <td>Chris Pratt|Bryce Dallas Howard|Irrfan Khan|Vi...</td>\n",
       "      <td>http://www.jurassicworld.com/</td>\n",
       "      <td>Colin Trevorrow</td>\n",
       "      <td>The park is open.</td>\n",
       "      <td>...</td>\n",
       "      <td>Twenty-two years after the events of Jurassic ...</td>\n",
       "      <td>124</td>\n",
       "      <td>Action|Adventure|Science Fiction|Thriller</td>\n",
       "      <td>Universal Studios|Amblin Entertainment|Legenda...</td>\n",
       "      <td>6/9/15</td>\n",
       "      <td>5562</td>\n",
       "      <td>6.5</td>\n",
       "      <td>2015</td>\n",
       "      <td>1.379999e+08</td>\n",
       "      <td>1.392446e+09</td>\n",
       "    </tr>\n",
       "    <tr>\n",
       "      <th>1</th>\n",
       "      <td>76341</td>\n",
       "      <td>tt1392190</td>\n",
       "      <td>28.419936</td>\n",
       "      <td>150000000</td>\n",
       "      <td>378436354</td>\n",
       "      <td>Mad Max: Fury Road</td>\n",
       "      <td>Tom Hardy|Charlize Theron|Hugh Keays-Byrne|Nic...</td>\n",
       "      <td>http://www.madmaxmovie.com/</td>\n",
       "      <td>George Miller</td>\n",
       "      <td>What a Lovely Day.</td>\n",
       "      <td>...</td>\n",
       "      <td>An apocalyptic story set in the furthest reach...</td>\n",
       "      <td>120</td>\n",
       "      <td>Action|Adventure|Science Fiction|Thriller</td>\n",
       "      <td>Village Roadshow Pictures|Kennedy Miller Produ...</td>\n",
       "      <td>5/13/15</td>\n",
       "      <td>6185</td>\n",
       "      <td>7.1</td>\n",
       "      <td>2015</td>\n",
       "      <td>1.379999e+08</td>\n",
       "      <td>3.481613e+08</td>\n",
       "    </tr>\n",
       "    <tr>\n",
       "      <th>2</th>\n",
       "      <td>262500</td>\n",
       "      <td>tt2908446</td>\n",
       "      <td>13.112507</td>\n",
       "      <td>110000000</td>\n",
       "      <td>295238201</td>\n",
       "      <td>Insurgent</td>\n",
       "      <td>Shailene Woodley|Theo James|Kate Winslet|Ansel...</td>\n",
       "      <td>http://www.thedivergentseries.movie/#insurgent</td>\n",
       "      <td>Robert Schwentke</td>\n",
       "      <td>One Choice Can Destroy You</td>\n",
       "      <td>...</td>\n",
       "      <td>Beatrice Prior must confront her inner demons ...</td>\n",
       "      <td>119</td>\n",
       "      <td>Adventure|Science Fiction|Thriller</td>\n",
       "      <td>Summit Entertainment|Mandeville Films|Red Wago...</td>\n",
       "      <td>3/18/15</td>\n",
       "      <td>2480</td>\n",
       "      <td>6.3</td>\n",
       "      <td>2015</td>\n",
       "      <td>1.012000e+08</td>\n",
       "      <td>2.716190e+08</td>\n",
       "    </tr>\n",
       "    <tr>\n",
       "      <th>3</th>\n",
       "      <td>140607</td>\n",
       "      <td>tt2488496</td>\n",
       "      <td>11.173104</td>\n",
       "      <td>200000000</td>\n",
       "      <td>2068178225</td>\n",
       "      <td>Star Wars: The Force Awakens</td>\n",
       "      <td>Harrison Ford|Mark Hamill|Carrie Fisher|Adam D...</td>\n",
       "      <td>http://www.starwars.com/films/star-wars-episod...</td>\n",
       "      <td>J.J. Abrams</td>\n",
       "      <td>Every generation has a story.</td>\n",
       "      <td>...</td>\n",
       "      <td>Thirty years after defeating the Galactic Empi...</td>\n",
       "      <td>136</td>\n",
       "      <td>Action|Adventure|Science Fiction|Fantasy</td>\n",
       "      <td>Lucasfilm|Truenorth Productions|Bad Robot</td>\n",
       "      <td>12/15/15</td>\n",
       "      <td>5292</td>\n",
       "      <td>7.5</td>\n",
       "      <td>2015</td>\n",
       "      <td>1.839999e+08</td>\n",
       "      <td>1.902723e+09</td>\n",
       "    </tr>\n",
       "    <tr>\n",
       "      <th>4</th>\n",
       "      <td>168259</td>\n",
       "      <td>tt2820852</td>\n",
       "      <td>9.335014</td>\n",
       "      <td>190000000</td>\n",
       "      <td>1506249360</td>\n",
       "      <td>Furious 7</td>\n",
       "      <td>Vin Diesel|Paul Walker|Jason Statham|Michelle ...</td>\n",
       "      <td>http://www.furious7.com/</td>\n",
       "      <td>James Wan</td>\n",
       "      <td>Vengeance Hits Home</td>\n",
       "      <td>...</td>\n",
       "      <td>Deckard Shaw seeks revenge against Dominic Tor...</td>\n",
       "      <td>137</td>\n",
       "      <td>Action|Crime|Thriller</td>\n",
       "      <td>Universal Pictures|Original Film|Media Rights ...</td>\n",
       "      <td>4/1/15</td>\n",
       "      <td>2947</td>\n",
       "      <td>7.3</td>\n",
       "      <td>2015</td>\n",
       "      <td>1.747999e+08</td>\n",
       "      <td>1.385749e+09</td>\n",
       "    </tr>\n",
       "  </tbody>\n",
       "</table>\n",
       "<p>5 rows × 21 columns</p>\n",
       "</div>"
      ],
      "text/plain": [
       "       id    imdb_id  popularity     budget     revenue  \\\n",
       "0  135397  tt0369610   32.985763  150000000  1513528810   \n",
       "1   76341  tt1392190   28.419936  150000000   378436354   \n",
       "2  262500  tt2908446   13.112507  110000000   295238201   \n",
       "3  140607  tt2488496   11.173104  200000000  2068178225   \n",
       "4  168259  tt2820852    9.335014  190000000  1506249360   \n",
       "\n",
       "                 original_title  \\\n",
       "0                Jurassic World   \n",
       "1            Mad Max: Fury Road   \n",
       "2                     Insurgent   \n",
       "3  Star Wars: The Force Awakens   \n",
       "4                     Furious 7   \n",
       "\n",
       "                                                cast  \\\n",
       "0  Chris Pratt|Bryce Dallas Howard|Irrfan Khan|Vi...   \n",
       "1  Tom Hardy|Charlize Theron|Hugh Keays-Byrne|Nic...   \n",
       "2  Shailene Woodley|Theo James|Kate Winslet|Ansel...   \n",
       "3  Harrison Ford|Mark Hamill|Carrie Fisher|Adam D...   \n",
       "4  Vin Diesel|Paul Walker|Jason Statham|Michelle ...   \n",
       "\n",
       "                                            homepage          director  \\\n",
       "0                      http://www.jurassicworld.com/   Colin Trevorrow   \n",
       "1                        http://www.madmaxmovie.com/     George Miller   \n",
       "2     http://www.thedivergentseries.movie/#insurgent  Robert Schwentke   \n",
       "3  http://www.starwars.com/films/star-wars-episod...       J.J. Abrams   \n",
       "4                           http://www.furious7.com/         James Wan   \n",
       "\n",
       "                         tagline      ...       \\\n",
       "0              The park is open.      ...        \n",
       "1             What a Lovely Day.      ...        \n",
       "2     One Choice Can Destroy You      ...        \n",
       "3  Every generation has a story.      ...        \n",
       "4            Vengeance Hits Home      ...        \n",
       "\n",
       "                                            overview runtime  \\\n",
       "0  Twenty-two years after the events of Jurassic ...     124   \n",
       "1  An apocalyptic story set in the furthest reach...     120   \n",
       "2  Beatrice Prior must confront her inner demons ...     119   \n",
       "3  Thirty years after defeating the Galactic Empi...     136   \n",
       "4  Deckard Shaw seeks revenge against Dominic Tor...     137   \n",
       "\n",
       "                                      genres  \\\n",
       "0  Action|Adventure|Science Fiction|Thriller   \n",
       "1  Action|Adventure|Science Fiction|Thriller   \n",
       "2         Adventure|Science Fiction|Thriller   \n",
       "3   Action|Adventure|Science Fiction|Fantasy   \n",
       "4                      Action|Crime|Thriller   \n",
       "\n",
       "                                production_companies release_date vote_count  \\\n",
       "0  Universal Studios|Amblin Entertainment|Legenda...       6/9/15       5562   \n",
       "1  Village Roadshow Pictures|Kennedy Miller Produ...      5/13/15       6185   \n",
       "2  Summit Entertainment|Mandeville Films|Red Wago...      3/18/15       2480   \n",
       "3          Lucasfilm|Truenorth Productions|Bad Robot     12/15/15       5292   \n",
       "4  Universal Pictures|Original Film|Media Rights ...       4/1/15       2947   \n",
       "\n",
       "   vote_average  release_year    budget_adj   revenue_adj  \n",
       "0           6.5          2015  1.379999e+08  1.392446e+09  \n",
       "1           7.1          2015  1.379999e+08  3.481613e+08  \n",
       "2           6.3          2015  1.012000e+08  2.716190e+08  \n",
       "3           7.5          2015  1.839999e+08  1.902723e+09  \n",
       "4           7.3          2015  1.747999e+08  1.385749e+09  \n",
       "\n",
       "[5 rows x 21 columns]"
      ]
     },
     "execution_count": 3,
     "metadata": {},
     "output_type": "execute_result"
    }
   ],
   "source": [
    "pol = pd.read_csv('tmdb-movies.csv')\n",
    "pol.head()"
   ]
  },
  {
   "cell_type": "code",
   "execution_count": 4,
   "metadata": {},
   "outputs": [
    {
     "data": {
      "text/plain": [
       "(10866, 21)"
      ]
     },
     "execution_count": 4,
     "metadata": {},
     "output_type": "execute_result"
    }
   ],
   "source": [
    "pol.shape"
   ]
  },
  {
   "cell_type": "markdown",
   "metadata": {},
   "source": [
    "In the movie data set there are 10866 records and 21 columns. Each movie has an **id** that uniquely identifies it. It also have \n",
    "**imdb_id** the column is an identification from another ranking database,**popularity** which ranks it from highest to lowest.**budget** the amount scheduled in movie creation. **revenue** the amount collected. **original_title** the name of the movie. **cast** the featuring actors.**homepage** the column ontains website url.**director** the column contains the name movie director.**tagline** the column has short text used to describe a thought.**keywords** the column has way for search engine optimization .**overview** the column contains summary of movie. **runtime** the column contains the time to play the movie.**genres** the column contains the categories where the movie belongs. **production_companies** the column conatins list of companies in movie production.\n",
    "**release_date** the column contains the date the movie will launch.**vote_count** the column contains the number of fans votes.**vote_average** the column contains the average votes.**release_year** the column contains the year to release the movie\n",
    "**budet_adj** the column contains the budet in exponential format. **revenue_adj** the column contains the amount in exponential form\n"
   ]
  },
  {
   "cell_type": "code",
   "execution_count": 25,
   "metadata": {},
   "outputs": [
    {
     "name": "stdout",
     "output_type": "stream",
     "text": [
      "<class 'pandas.core.frame.DataFrame'>\n",
      "RangeIndex: 10866 entries, 0 to 10865\n",
      "Data columns (total 21 columns):\n",
      "id                      10866 non-null int64\n",
      "imdb_id                 10856 non-null object\n",
      "popularity              10866 non-null float64\n",
      "budget                  10866 non-null int64\n",
      "revenue                 10866 non-null int64\n",
      "original_title          10866 non-null object\n",
      "cast                    10790 non-null object\n",
      "homepage                2936 non-null object\n",
      "director                10822 non-null object\n",
      "tagline                 8042 non-null object\n",
      "keywords                9373 non-null object\n",
      "overview                10862 non-null object\n",
      "runtime                 10866 non-null int64\n",
      "genres                  10843 non-null object\n",
      "production_companies    9836 non-null object\n",
      "release_date            10866 non-null object\n",
      "vote_count              10866 non-null int64\n",
      "vote_average            10866 non-null float64\n",
      "release_year            10866 non-null int64\n",
      "budget_adj              10866 non-null float64\n",
      "revenue_adj             10866 non-null float64\n",
      "dtypes: float64(4), int64(6), object(11)\n",
      "memory usage: 1.7+ MB\n"
     ]
    }
   ],
   "source": [
    "#Missing column information\n",
    "pol.info()"
   ]
  },
  {
   "cell_type": "code",
   "execution_count": null,
   "metadata": {},
   "outputs": [],
   "source": [
    "There are 9 columns with missing values which are imdb_id,cast,homepage,director,tagline,keywords,overview,genres and production_companies"
   ]
  },
  {
   "cell_type": "code",
   "execution_count": 26,
   "metadata": {},
   "outputs": [
    {
     "data": {
      "text/html": [
       "<div>\n",
       "<style scoped>\n",
       "    .dataframe tbody tr th:only-of-type {\n",
       "        vertical-align: middle;\n",
       "    }\n",
       "\n",
       "    .dataframe tbody tr th {\n",
       "        vertical-align: top;\n",
       "    }\n",
       "\n",
       "    .dataframe thead th {\n",
       "        text-align: right;\n",
       "    }\n",
       "</style>\n",
       "<table border=\"1\" class=\"dataframe\">\n",
       "  <thead>\n",
       "    <tr style=\"text-align: right;\">\n",
       "      <th></th>\n",
       "      <th>id</th>\n",
       "      <th>imdb_id</th>\n",
       "      <th>popularity</th>\n",
       "      <th>budget</th>\n",
       "      <th>revenue</th>\n",
       "      <th>original_title</th>\n",
       "      <th>cast</th>\n",
       "      <th>homepage</th>\n",
       "      <th>director</th>\n",
       "      <th>tagline</th>\n",
       "      <th>...</th>\n",
       "      <th>overview</th>\n",
       "      <th>runtime</th>\n",
       "      <th>genres</th>\n",
       "      <th>production_companies</th>\n",
       "      <th>release_date</th>\n",
       "      <th>vote_count</th>\n",
       "      <th>vote_average</th>\n",
       "      <th>release_year</th>\n",
       "      <th>budget_adj</th>\n",
       "      <th>revenue_adj</th>\n",
       "    </tr>\n",
       "  </thead>\n",
       "  <tbody>\n",
       "    <tr>\n",
       "      <th>10861</th>\n",
       "      <td>21</td>\n",
       "      <td>tt0060371</td>\n",
       "      <td>0.080598</td>\n",
       "      <td>0</td>\n",
       "      <td>0</td>\n",
       "      <td>The Endless Summer</td>\n",
       "      <td>Michael Hynson|Robert August|Lord 'Tally Ho' B...</td>\n",
       "      <td>NaN</td>\n",
       "      <td>Bruce Brown</td>\n",
       "      <td>NaN</td>\n",
       "      <td>...</td>\n",
       "      <td>The Endless Summer, by Bruce Brown, is one of ...</td>\n",
       "      <td>95</td>\n",
       "      <td>Documentary</td>\n",
       "      <td>Bruce Brown Films</td>\n",
       "      <td>6/15/66</td>\n",
       "      <td>11</td>\n",
       "      <td>7.4</td>\n",
       "      <td>1966</td>\n",
       "      <td>0.000000</td>\n",
       "      <td>0.0</td>\n",
       "    </tr>\n",
       "    <tr>\n",
       "      <th>10862</th>\n",
       "      <td>20379</td>\n",
       "      <td>tt0060472</td>\n",
       "      <td>0.065543</td>\n",
       "      <td>0</td>\n",
       "      <td>0</td>\n",
       "      <td>Grand Prix</td>\n",
       "      <td>James Garner|Eva Marie Saint|Yves Montand|Tosh...</td>\n",
       "      <td>NaN</td>\n",
       "      <td>John Frankenheimer</td>\n",
       "      <td>Cinerama sweeps YOU into a drama of speed and ...</td>\n",
       "      <td>...</td>\n",
       "      <td>Grand Prix driver Pete Aron is fired by his te...</td>\n",
       "      <td>176</td>\n",
       "      <td>Action|Adventure|Drama</td>\n",
       "      <td>Cherokee Productions|Joel Productions|Douglas ...</td>\n",
       "      <td>12/21/66</td>\n",
       "      <td>20</td>\n",
       "      <td>5.7</td>\n",
       "      <td>1966</td>\n",
       "      <td>0.000000</td>\n",
       "      <td>0.0</td>\n",
       "    </tr>\n",
       "    <tr>\n",
       "      <th>10863</th>\n",
       "      <td>39768</td>\n",
       "      <td>tt0060161</td>\n",
       "      <td>0.065141</td>\n",
       "      <td>0</td>\n",
       "      <td>0</td>\n",
       "      <td>Beregis Avtomobilya</td>\n",
       "      <td>Innokentiy Smoktunovskiy|Oleg Efremov|Georgi Z...</td>\n",
       "      <td>NaN</td>\n",
       "      <td>Eldar Ryazanov</td>\n",
       "      <td>NaN</td>\n",
       "      <td>...</td>\n",
       "      <td>An insurance agent who moonlights as a carthie...</td>\n",
       "      <td>94</td>\n",
       "      <td>Mystery|Comedy</td>\n",
       "      <td>Mosfilm</td>\n",
       "      <td>1/1/66</td>\n",
       "      <td>11</td>\n",
       "      <td>6.5</td>\n",
       "      <td>1966</td>\n",
       "      <td>0.000000</td>\n",
       "      <td>0.0</td>\n",
       "    </tr>\n",
       "    <tr>\n",
       "      <th>10864</th>\n",
       "      <td>21449</td>\n",
       "      <td>tt0061177</td>\n",
       "      <td>0.064317</td>\n",
       "      <td>0</td>\n",
       "      <td>0</td>\n",
       "      <td>What's Up, Tiger Lily?</td>\n",
       "      <td>Tatsuya Mihashi|Akiko Wakabayashi|Mie Hama|Joh...</td>\n",
       "      <td>NaN</td>\n",
       "      <td>Woody Allen</td>\n",
       "      <td>WOODY ALLEN STRIKES BACK!</td>\n",
       "      <td>...</td>\n",
       "      <td>In comic Woody Allen's film debut, he took the...</td>\n",
       "      <td>80</td>\n",
       "      <td>Action|Comedy</td>\n",
       "      <td>Benedict Pictures Corp.</td>\n",
       "      <td>11/2/66</td>\n",
       "      <td>22</td>\n",
       "      <td>5.4</td>\n",
       "      <td>1966</td>\n",
       "      <td>0.000000</td>\n",
       "      <td>0.0</td>\n",
       "    </tr>\n",
       "    <tr>\n",
       "      <th>10865</th>\n",
       "      <td>22293</td>\n",
       "      <td>tt0060666</td>\n",
       "      <td>0.035919</td>\n",
       "      <td>19000</td>\n",
       "      <td>0</td>\n",
       "      <td>Manos: The Hands of Fate</td>\n",
       "      <td>Harold P. Warren|Tom Neyman|John Reynolds|Dian...</td>\n",
       "      <td>NaN</td>\n",
       "      <td>Harold P. Warren</td>\n",
       "      <td>It's Shocking! It's Beyond Your Imagination!</td>\n",
       "      <td>...</td>\n",
       "      <td>A family gets lost on the road and stumbles up...</td>\n",
       "      <td>74</td>\n",
       "      <td>Horror</td>\n",
       "      <td>Norm-Iris</td>\n",
       "      <td>11/15/66</td>\n",
       "      <td>15</td>\n",
       "      <td>1.5</td>\n",
       "      <td>1966</td>\n",
       "      <td>127642.279154</td>\n",
       "      <td>0.0</td>\n",
       "    </tr>\n",
       "  </tbody>\n",
       "</table>\n",
       "<p>5 rows × 21 columns</p>\n",
       "</div>"
      ],
      "text/plain": [
       "          id    imdb_id  popularity  budget  revenue  \\\n",
       "10861     21  tt0060371    0.080598       0        0   \n",
       "10862  20379  tt0060472    0.065543       0        0   \n",
       "10863  39768  tt0060161    0.065141       0        0   \n",
       "10864  21449  tt0061177    0.064317       0        0   \n",
       "10865  22293  tt0060666    0.035919   19000        0   \n",
       "\n",
       "                 original_title  \\\n",
       "10861        The Endless Summer   \n",
       "10862                Grand Prix   \n",
       "10863       Beregis Avtomobilya   \n",
       "10864    What's Up, Tiger Lily?   \n",
       "10865  Manos: The Hands of Fate   \n",
       "\n",
       "                                                    cast homepage  \\\n",
       "10861  Michael Hynson|Robert August|Lord 'Tally Ho' B...      NaN   \n",
       "10862  James Garner|Eva Marie Saint|Yves Montand|Tosh...      NaN   \n",
       "10863  Innokentiy Smoktunovskiy|Oleg Efremov|Georgi Z...      NaN   \n",
       "10864  Tatsuya Mihashi|Akiko Wakabayashi|Mie Hama|Joh...      NaN   \n",
       "10865  Harold P. Warren|Tom Neyman|John Reynolds|Dian...      NaN   \n",
       "\n",
       "                 director                                            tagline  \\\n",
       "10861         Bruce Brown                                                NaN   \n",
       "10862  John Frankenheimer  Cinerama sweeps YOU into a drama of speed and ...   \n",
       "10863      Eldar Ryazanov                                                NaN   \n",
       "10864         Woody Allen                          WOODY ALLEN STRIKES BACK!   \n",
       "10865    Harold P. Warren       It's Shocking! It's Beyond Your Imagination!   \n",
       "\n",
       "          ...                                                overview runtime  \\\n",
       "10861     ...       The Endless Summer, by Bruce Brown, is one of ...      95   \n",
       "10862     ...       Grand Prix driver Pete Aron is fired by his te...     176   \n",
       "10863     ...       An insurance agent who moonlights as a carthie...      94   \n",
       "10864     ...       In comic Woody Allen's film debut, he took the...      80   \n",
       "10865     ...       A family gets lost on the road and stumbles up...      74   \n",
       "\n",
       "                       genres  \\\n",
       "10861             Documentary   \n",
       "10862  Action|Adventure|Drama   \n",
       "10863          Mystery|Comedy   \n",
       "10864           Action|Comedy   \n",
       "10865                  Horror   \n",
       "\n",
       "                                    production_companies release_date  \\\n",
       "10861                                  Bruce Brown Films      6/15/66   \n",
       "10862  Cherokee Productions|Joel Productions|Douglas ...     12/21/66   \n",
       "10863                                            Mosfilm       1/1/66   \n",
       "10864                            Benedict Pictures Corp.      11/2/66   \n",
       "10865                                          Norm-Iris     11/15/66   \n",
       "\n",
       "      vote_count  vote_average  release_year     budget_adj  revenue_adj  \n",
       "10861         11           7.4          1966       0.000000          0.0  \n",
       "10862         20           5.7          1966       0.000000          0.0  \n",
       "10863         11           6.5          1966       0.000000          0.0  \n",
       "10864         22           5.4          1966       0.000000          0.0  \n",
       "10865         15           1.5          1966  127642.279154          0.0  \n",
       "\n",
       "[5 rows x 21 columns]"
      ]
     },
     "execution_count": 26,
     "metadata": {},
     "output_type": "execute_result"
    }
   ],
   "source": [
    "#values at the bottom or last records\n",
    "pol.tail()"
   ]
  },
  {
   "cell_type": "code",
   "execution_count": 27,
   "metadata": {},
   "outputs": [
    {
     "data": {
      "text/plain": [
       "id                        int64\n",
       "imdb_id                  object\n",
       "popularity              float64\n",
       "budget                    int64\n",
       "revenue                   int64\n",
       "original_title           object\n",
       "cast                     object\n",
       "homepage                 object\n",
       "director                 object\n",
       "tagline                  object\n",
       "keywords                 object\n",
       "overview                 object\n",
       "runtime                   int64\n",
       "genres                   object\n",
       "production_companies     object\n",
       "release_date             object\n",
       "vote_count                int64\n",
       "vote_average            float64\n",
       "release_year              int64\n",
       "budget_adj              float64\n",
       "revenue_adj             float64\n",
       "dtype: object"
      ]
     },
     "execution_count": 27,
     "metadata": {},
     "output_type": "execute_result"
    }
   ],
   "source": [
    "# types of data in each column\n",
    "pol.dtypes"
   ]
  },
  {
   "cell_type": "markdown",
   "metadata": {},
   "source": [
    "> **Tip**: You should _not_ perform too many operations in each cell. Create cells freely to explore your data. One option that you can take with this project is to do a lot of explorations in an initial notebook. These don't have to be organized, but make sure you use enough comments to understand the purpose of each code cell. Then, after you're done with your analysis, create a duplicate notebook where you will trim the excess and organize your steps so that you have a flowing, cohesive report.\n",
    "\n",
    "> **Tip**: Make sure that you keep your reader informed on the steps that you are taking in your investigation. Follow every code cell, or every set of related code cells, with a markdown cell to describe to the reader what was found in the preceding cell(s). Try to make it so that the reader can then understand what they will be seeing in the following cell(s).\n",
    "\n",
    "### Data Cleaning (Handling missing values and duplicated Data)"
   ]
  },
  {
   "cell_type": "code",
   "execution_count": 15,
   "metadata": {},
   "outputs": [],
   "source": [
    "#Drop some columns to have choosen data set\n",
    "pol.drop(['imdb_id','cast','director','tagline','production_companies','release_date','keywords','homepage','overview','vote_average'], axis = 1, inplace=True)"
   ]
  },
  {
   "cell_type": "code",
   "execution_count": 16,
   "metadata": {},
   "outputs": [
    {
     "data": {
      "text/html": [
       "<div>\n",
       "<style scoped>\n",
       "    .dataframe tbody tr th:only-of-type {\n",
       "        vertical-align: middle;\n",
       "    }\n",
       "\n",
       "    .dataframe tbody tr th {\n",
       "        vertical-align: top;\n",
       "    }\n",
       "\n",
       "    .dataframe thead th {\n",
       "        text-align: right;\n",
       "    }\n",
       "</style>\n",
       "<table border=\"1\" class=\"dataframe\">\n",
       "  <thead>\n",
       "    <tr style=\"text-align: right;\">\n",
       "      <th></th>\n",
       "      <th>id</th>\n",
       "      <th>popularity</th>\n",
       "      <th>budget</th>\n",
       "      <th>revenue</th>\n",
       "      <th>original_title</th>\n",
       "      <th>runtime</th>\n",
       "      <th>genres</th>\n",
       "      <th>vote_count</th>\n",
       "      <th>release_year</th>\n",
       "      <th>budget_adj</th>\n",
       "      <th>revenue_adj</th>\n",
       "    </tr>\n",
       "  </thead>\n",
       "  <tbody>\n",
       "    <tr>\n",
       "      <th>0</th>\n",
       "      <td>135397</td>\n",
       "      <td>32.985763</td>\n",
       "      <td>150000000</td>\n",
       "      <td>1513528810</td>\n",
       "      <td>Jurassic World</td>\n",
       "      <td>124</td>\n",
       "      <td>Action|Adventure|Science Fiction|Thriller</td>\n",
       "      <td>5562</td>\n",
       "      <td>2015</td>\n",
       "      <td>1.379999e+08</td>\n",
       "      <td>1.392446e+09</td>\n",
       "    </tr>\n",
       "    <tr>\n",
       "      <th>1</th>\n",
       "      <td>76341</td>\n",
       "      <td>28.419936</td>\n",
       "      <td>150000000</td>\n",
       "      <td>378436354</td>\n",
       "      <td>Mad Max: Fury Road</td>\n",
       "      <td>120</td>\n",
       "      <td>Action|Adventure|Science Fiction|Thriller</td>\n",
       "      <td>6185</td>\n",
       "      <td>2015</td>\n",
       "      <td>1.379999e+08</td>\n",
       "      <td>3.481613e+08</td>\n",
       "    </tr>\n",
       "    <tr>\n",
       "      <th>2</th>\n",
       "      <td>262500</td>\n",
       "      <td>13.112507</td>\n",
       "      <td>110000000</td>\n",
       "      <td>295238201</td>\n",
       "      <td>Insurgent</td>\n",
       "      <td>119</td>\n",
       "      <td>Adventure|Science Fiction|Thriller</td>\n",
       "      <td>2480</td>\n",
       "      <td>2015</td>\n",
       "      <td>1.012000e+08</td>\n",
       "      <td>2.716190e+08</td>\n",
       "    </tr>\n",
       "    <tr>\n",
       "      <th>3</th>\n",
       "      <td>140607</td>\n",
       "      <td>11.173104</td>\n",
       "      <td>200000000</td>\n",
       "      <td>2068178225</td>\n",
       "      <td>Star Wars: The Force Awakens</td>\n",
       "      <td>136</td>\n",
       "      <td>Action|Adventure|Science Fiction|Fantasy</td>\n",
       "      <td>5292</td>\n",
       "      <td>2015</td>\n",
       "      <td>1.839999e+08</td>\n",
       "      <td>1.902723e+09</td>\n",
       "    </tr>\n",
       "    <tr>\n",
       "      <th>4</th>\n",
       "      <td>168259</td>\n",
       "      <td>9.335014</td>\n",
       "      <td>190000000</td>\n",
       "      <td>1506249360</td>\n",
       "      <td>Furious 7</td>\n",
       "      <td>137</td>\n",
       "      <td>Action|Crime|Thriller</td>\n",
       "      <td>2947</td>\n",
       "      <td>2015</td>\n",
       "      <td>1.747999e+08</td>\n",
       "      <td>1.385749e+09</td>\n",
       "    </tr>\n",
       "  </tbody>\n",
       "</table>\n",
       "</div>"
      ],
      "text/plain": [
       "       id  popularity     budget     revenue                original_title  \\\n",
       "0  135397   32.985763  150000000  1513528810                Jurassic World   \n",
       "1   76341   28.419936  150000000   378436354            Mad Max: Fury Road   \n",
       "2  262500   13.112507  110000000   295238201                     Insurgent   \n",
       "3  140607   11.173104  200000000  2068178225  Star Wars: The Force Awakens   \n",
       "4  168259    9.335014  190000000  1506249360                     Furious 7   \n",
       "\n",
       "   runtime                                     genres  vote_count  \\\n",
       "0      124  Action|Adventure|Science Fiction|Thriller        5562   \n",
       "1      120  Action|Adventure|Science Fiction|Thriller        6185   \n",
       "2      119         Adventure|Science Fiction|Thriller        2480   \n",
       "3      136   Action|Adventure|Science Fiction|Fantasy        5292   \n",
       "4      137                      Action|Crime|Thriller        2947   \n",
       "\n",
       "   release_year    budget_adj   revenue_adj  \n",
       "0          2015  1.379999e+08  1.392446e+09  \n",
       "1          2015  1.379999e+08  3.481613e+08  \n",
       "2          2015  1.012000e+08  2.716190e+08  \n",
       "3          2015  1.839999e+08  1.902723e+09  \n",
       "4          2015  1.747999e+08  1.385749e+09  "
      ]
     },
     "execution_count": 16,
     "metadata": {},
     "output_type": "execute_result"
    }
   ],
   "source": [
    "pol.head()"
   ]
  },
  {
   "cell_type": "code",
   "execution_count": 17,
   "metadata": {},
   "outputs": [
    {
     "name": "stdout",
     "output_type": "stream",
     "text": [
      "<class 'pandas.core.frame.DataFrame'>\n",
      "RangeIndex: 10866 entries, 0 to 10865\n",
      "Data columns (total 11 columns):\n",
      "id                10866 non-null int64\n",
      "popularity        10866 non-null float64\n",
      "budget            10866 non-null int64\n",
      "revenue           10866 non-null int64\n",
      "original_title    10866 non-null object\n",
      "runtime           10866 non-null int64\n",
      "genres            10843 non-null object\n",
      "vote_count        10866 non-null int64\n",
      "release_year      10866 non-null int64\n",
      "budget_adj        10866 non-null float64\n",
      "revenue_adj       10866 non-null float64\n",
      "dtypes: float64(3), int64(6), object(2)\n",
      "memory usage: 933.9+ KB\n"
     ]
    }
   ],
   "source": [
    "pol.info()"
   ]
  },
  {
   "cell_type": "code",
   "execution_count": 18,
   "metadata": {},
   "outputs": [
    {
     "data": {
      "text/plain": [
       "array([[<matplotlib.axes._subplots.AxesSubplot object at 0x7f6331744940>,\n",
       "        <matplotlib.axes._subplots.AxesSubplot object at 0x7f63340a56a0>,\n",
       "        <matplotlib.axes._subplots.AxesSubplot object at 0x7f633405cb00>],\n",
       "       [<matplotlib.axes._subplots.AxesSubplot object at 0x7f6334096a58>,\n",
       "        <matplotlib.axes._subplots.AxesSubplot object at 0x7f633404eb38>,\n",
       "        <matplotlib.axes._subplots.AxesSubplot object at 0x7f633404eb70>],\n",
       "       [<matplotlib.axes._subplots.AxesSubplot object at 0x7f6334058b38>,\n",
       "        <matplotlib.axes._subplots.AxesSubplot object at 0x7f6333f71828>,\n",
       "        <matplotlib.axes._subplots.AxesSubplot object at 0x7f6333f2b828>]], dtype=object)"
      ]
     },
     "execution_count": 18,
     "metadata": {},
     "output_type": "execute_result"
    },
    {
     "data": {
      "image/png": "[encoded data removed]",
      "text/plain": [
       "<matplotlib.figure.Figure at 0x7f63317441d0>"
      ]
     },
     "metadata": {
      "needs_background": "light"
     },
     "output_type": "display_data"
    }
   ],
   "source": [
    "pol.hist(figsize=(10,8))"
   ]
  },
  {
   "cell_type": "code",
   "execution_count": 19,
   "metadata": {},
   "outputs": [
    {
     "name": "stdout",
     "output_type": "stream",
     "text": [
      "<class 'pandas.core.frame.DataFrame'>\n",
      "RangeIndex: 10866 entries, 0 to 10865\n",
      "Data columns (total 11 columns):\n",
      "id                10866 non-null int64\n",
      "popularity        10866 non-null float64\n",
      "budget            10866 non-null int64\n",
      "revenue           10866 non-null int64\n",
      "original_title    10866 non-null object\n",
      "runtime           10866 non-null int64\n",
      "genres            10843 non-null object\n",
      "vote_count        10866 non-null int64\n",
      "release_year      10866 non-null int64\n",
      "budget_adj        10866 non-null float64\n",
      "revenue_adj       10866 non-null float64\n",
      "dtypes: float64(3), int64(6), object(2)\n",
      "memory usage: 933.9+ KB\n"
     ]
    }
   ],
   "source": [
    "# using means to fill in missing values\n",
    "pol.fillna(pol.mean(), inplace=True)\n",
    "pol.info()"
   ]
  },
  {
   "cell_type": "code",
   "execution_count": 20,
   "metadata": {},
   "outputs": [
    {
     "name": "stdout",
     "output_type": "stream",
     "text": [
      "<class 'pandas.core.frame.DataFrame'>\n",
      "Int64Index: 10843 entries, 0 to 10865\n",
      "Data columns (total 11 columns):\n",
      "id                10843 non-null int64\n",
      "popularity        10843 non-null float64\n",
      "budget            10843 non-null int64\n",
      "revenue           10843 non-null int64\n",
      "original_title    10843 non-null object\n",
      "runtime           10843 non-null int64\n",
      "genres            10843 non-null object\n",
      "vote_count        10843 non-null int64\n",
      "release_year      10843 non-null int64\n",
      "budget_adj        10843 non-null float64\n",
      "revenue_adj       10843 non-null float64\n",
      "dtypes: float64(3), int64(6), object(2)\n",
      "memory usage: 1016.5+ KB\n"
     ]
    }
   ],
   "source": [
    "pol.dropna(inplace = True)\n",
    "pol.info()"
   ]
  },
  {
   "cell_type": "code",
   "execution_count": 22,
   "metadata": {},
   "outputs": [
    {
     "data": {
      "text/plain": [
       "False"
      ]
     },
     "execution_count": 22,
     "metadata": {},
     "output_type": "execute_result"
    }
   ],
   "source": [
    "#Checking to see if any column in tmdb has null value\n",
    "pol.isnull().sum().any()"
   ]
  },
  {
   "cell_type": "code",
   "execution_count": 33,
   "metadata": {},
   "outputs": [
    {
     "data": {
      "text/plain": [
       "14656724.438716222"
      ]
     },
     "execution_count": 33,
     "metadata": {},
     "output_type": "execute_result"
    }
   ],
   "source": [
    "meane = pol['budget'].mean(skipna=True)   \n",
    "meane"
   ]
  },
  {
   "cell_type": "code",
   "execution_count": 34,
   "metadata": {},
   "outputs": [],
   "source": [
    "#replace the 0 values with the  mean of this budget column.\n",
    "pol['budget']=pol.budget.mask(pol.budget == 0, meane)"
   ]
  },
  {
   "cell_type": "code",
   "execution_count": 39,
   "metadata": {},
   "outputs": [],
   "source": [
    "#replace the 0 values with the  mean of this revenue column.\n",
    "meanrev = pol['revenue'].mean(skipna=True) \n",
    "pol['revenue']=pol.revenue.mask(pol.revenue == 0, meanrev)"
   ]
  },
  {
   "cell_type": "code",
   "execution_count": 43,
   "metadata": {},
   "outputs": [],
   "source": [
    "#replace the 0 values with the  mean of this revenue_adj and budget_adj column and runtime.\n",
    "meanadj = pol['budget_adj'].mean(skipna=True) \n",
    "pol['budget_adj']=pol.budget_adj.mask(pol.budget_adj == 0, meanadj)\n",
    "meanrevadj = pol['revenue_adj'].mean(skipna=True) \n",
    "pol['revenue_adj']=pol.revenue_adj.mask(pol.revenue_adj == 0, meanrevadj)\n",
    "meanrun = pol['runtime'].mean(skipna=True)\n",
    "pol['runtime']=pol.runtime.mask(pol.runtime == 0, meanrun)"
   ]
  },
  {
   "cell_type": "code",
   "execution_count": 44,
   "metadata": {},
   "outputs": [
    {
     "data": {
      "text/html": [
       "<div>\n",
       "<style scoped>\n",
       "    .dataframe tbody tr th:only-of-type {\n",
       "        vertical-align: middle;\n",
       "    }\n",
       "\n",
       "    .dataframe tbody tr th {\n",
       "        vertical-align: top;\n",
       "    }\n",
       "\n",
       "    .dataframe thead th {\n",
       "        text-align: right;\n",
       "    }\n",
       "</style>\n",
       "<table border=\"1\" class=\"dataframe\">\n",
       "  <thead>\n",
       "    <tr style=\"text-align: right;\">\n",
       "      <th></th>\n",
       "      <th>id</th>\n",
       "      <th>popularity</th>\n",
       "      <th>budget</th>\n",
       "      <th>revenue</th>\n",
       "      <th>runtime</th>\n",
       "      <th>vote_count</th>\n",
       "      <th>release_year</th>\n",
       "      <th>budget_adj</th>\n",
       "      <th>revenue_adj</th>\n",
       "    </tr>\n",
       "  </thead>\n",
       "  <tbody>\n",
       "    <tr>\n",
       "      <th>count</th>\n",
       "      <td>10843.000000</td>\n",
       "      <td>10843.000000</td>\n",
       "      <td>1.084300e+04</td>\n",
       "      <td>1.084300e+04</td>\n",
       "      <td>10843.000000</td>\n",
       "      <td>10843.000000</td>\n",
       "      <td>10843.000000</td>\n",
       "      <td>1.084300e+04</td>\n",
       "      <td>1.084300e+04</td>\n",
       "    </tr>\n",
       "    <tr>\n",
       "      <th>mean</th>\n",
       "      <td>65868.491930</td>\n",
       "      <td>0.647456</td>\n",
       "      <td>2.232640e+07</td>\n",
       "      <td>2.232640e+07</td>\n",
       "      <td>102.420098</td>\n",
       "      <td>217.813705</td>\n",
       "      <td>2001.315595</td>\n",
       "      <td>2.679198e+07</td>\n",
       "      <td>7.992297e+07</td>\n",
       "    </tr>\n",
       "    <tr>\n",
       "      <th>std</th>\n",
       "      <td>91977.394803</td>\n",
       "      <td>1.000986</td>\n",
       "      <td>2.803475e+07</td>\n",
       "      <td>2.803475e+07</td>\n",
       "      <td>30.827363</td>\n",
       "      <td>576.155351</td>\n",
       "      <td>12.813298</td>\n",
       "      <td>3.053106e+07</td>\n",
       "      <td>1.366870e+08</td>\n",
       "    </tr>\n",
       "    <tr>\n",
       "      <th>min</th>\n",
       "      <td>5.000000</td>\n",
       "      <td>0.000065</td>\n",
       "      <td>1.000000e+00</td>\n",
       "      <td>1.000000e+00</td>\n",
       "      <td>2.000000</td>\n",
       "      <td>10.000000</td>\n",
       "      <td>1960.000000</td>\n",
       "      <td>9.210911e-01</td>\n",
       "      <td>2.370705e+00</td>\n",
       "    </tr>\n",
       "    <tr>\n",
       "      <th>25%</th>\n",
       "      <td>10589.500000</td>\n",
       "      <td>0.208253</td>\n",
       "      <td>1.465672e+07</td>\n",
       "      <td>1.465672e+07</td>\n",
       "      <td>90.000000</td>\n",
       "      <td>17.000000</td>\n",
       "      <td>1995.000000</td>\n",
       "      <td>1.758827e+07</td>\n",
       "      <td>5.147332e+07</td>\n",
       "    </tr>\n",
       "    <tr>\n",
       "      <th>50%</th>\n",
       "      <td>20558.000000</td>\n",
       "      <td>0.384555</td>\n",
       "      <td>1.465672e+07</td>\n",
       "      <td>1.465672e+07</td>\n",
       "      <td>99.000000</td>\n",
       "      <td>38.000000</td>\n",
       "      <td>2006.000000</td>\n",
       "      <td>1.758827e+07</td>\n",
       "      <td>5.147332e+07</td>\n",
       "    </tr>\n",
       "    <tr>\n",
       "      <th>75%</th>\n",
       "      <td>75182.000000</td>\n",
       "      <td>0.715349</td>\n",
       "      <td>1.500000e+07</td>\n",
       "      <td>1.500000e+07</td>\n",
       "      <td>111.000000</td>\n",
       "      <td>146.000000</td>\n",
       "      <td>2011.000000</td>\n",
       "      <td>2.093530e+07</td>\n",
       "      <td>5.147332e+07</td>\n",
       "    </tr>\n",
       "    <tr>\n",
       "      <th>max</th>\n",
       "      <td>417859.000000</td>\n",
       "      <td>32.985763</td>\n",
       "      <td>4.250000e+08</td>\n",
       "      <td>4.250000e+08</td>\n",
       "      <td>900.000000</td>\n",
       "      <td>9767.000000</td>\n",
       "      <td>2015.000000</td>\n",
       "      <td>4.250000e+08</td>\n",
       "      <td>2.827124e+09</td>\n",
       "    </tr>\n",
       "  </tbody>\n",
       "</table>\n",
       "</div>"
      ],
      "text/plain": [
       "                  id    popularity        budget       revenue       runtime  \\\n",
       "count   10843.000000  10843.000000  1.084300e+04  1.084300e+04  10843.000000   \n",
       "mean    65868.491930      0.647456  2.232640e+07  2.232640e+07    102.420098   \n",
       "std     91977.394803      1.000986  2.803475e+07  2.803475e+07     30.827363   \n",
       "min         5.000000      0.000065  1.000000e+00  1.000000e+00      2.000000   \n",
       "25%     10589.500000      0.208253  1.465672e+07  1.465672e+07     90.000000   \n",
       "50%     20558.000000      0.384555  1.465672e+07  1.465672e+07     99.000000   \n",
       "75%     75182.000000      0.715349  1.500000e+07  1.500000e+07    111.000000   \n",
       "max    417859.000000     32.985763  4.250000e+08  4.250000e+08    900.000000   \n",
       "\n",
       "         vote_count  release_year    budget_adj   revenue_adj  \n",
       "count  10843.000000  10843.000000  1.084300e+04  1.084300e+04  \n",
       "mean     217.813705   2001.315595  2.679198e+07  7.992297e+07  \n",
       "std      576.155351     12.813298  3.053106e+07  1.366870e+08  \n",
       "min       10.000000   1960.000000  9.210911e-01  2.370705e+00  \n",
       "25%       17.000000   1995.000000  1.758827e+07  5.147332e+07  \n",
       "50%       38.000000   2006.000000  1.758827e+07  5.147332e+07  \n",
       "75%      146.000000   2011.000000  2.093530e+07  5.147332e+07  \n",
       "max     9767.000000   2015.000000  4.250000e+08  2.827124e+09  "
      ]
     },
     "execution_count": 44,
     "metadata": {},
     "output_type": "execute_result"
    }
   ],
   "source": [
    "pol.describe()"
   ]
  },
  {
   "cell_type": "code",
   "execution_count": 34,
   "metadata": {},
   "outputs": [
    {
     "data": {
      "text/plain": [
       "(7636, 15)"
      ]
     },
     "execution_count": 34,
     "metadata": {},
     "output_type": "execute_result"
    }
   ],
   "source": [
    "#new rows and columns after filling missing values\n",
    "pol.shape"
   ]
  },
  {
   "cell_type": "markdown",
   "metadata": {},
   "source": [
    "<a id='eda'></a>\n",
    "## Exploratory Data Analysis\n",
    "\n",
    "> **Tip**: Now that you've trimmed and cleaned your data, you're ready to move on to exploration. Compute statistics and create visualizations with the goal of addressing the research questions that you posed in the Introduction section. It is recommended that you be systematic with your approach. Look at one variable at a time, and then follow it up by looking at relationships between variables.\n",
    "\n",
    "### Research Question 1: Do Movies with Length hours more popular? "
   ]
  },
  {
   "cell_type": "code",
   "execution_count": 42,
   "metadata": {},
   "outputs": [
    {
     "data": {
      "text/plain": [
       "100.0"
      ]
     },
     "execution_count": 42,
     "metadata": {},
     "output_type": "execute_result"
    }
   ],
   "source": [
    "pol.runtime.median()"
   ]
  },
  {
   "cell_type": "code",
   "execution_count": 43,
   "metadata": {},
   "outputs": [
    {
     "data": {
      "text/plain": [
       "True"
      ]
     },
     "execution_count": 43,
     "metadata": {},
     "output_type": "execute_result"
    }
   ],
   "source": [
    "# select dataset with runtime  less than the median\n",
    "low_runtime = pol.query('runtime < 100.0')\n",
    "high_runtime = pol.query('runtime >= 100.0')\n",
    "num_sets = pol.shape[0]\n",
    "num_sets == low_runtime['popularity'].count() + high_runtime['popularity'].count()"
   ]
  },
  {
   "cell_type": "code",
   "execution_count": 47,
   "metadata": {},
   "outputs": [
    {
     "data": {
      "text/plain": [
       "0.57482659221704568"
      ]
     },
     "execution_count": 47,
     "metadata": {},
     "output_type": "execute_result"
    }
   ],
   "source": [
    "\n",
    "mean_low = low_runtime.popularity.mean()\n",
    "mean_low"
   ]
  },
  {
   "cell_type": "code",
   "execution_count": 48,
   "metadata": {},
   "outputs": [
    {
     "data": {
      "text/plain": [
       "0.99253889465763723"
      ]
     },
     "execution_count": 48,
     "metadata": {},
     "output_type": "execute_result"
    }
   ],
   "source": [
    "mean_high = high_runtime.popularity.mean()\n",
    "mean_high"
   ]
  },
  {
   "cell_type": "code",
   "execution_count": 49,
   "metadata": {},
   "outputs": [
    {
     "data": {
      "text/plain": [
       "Text(0,0.5,'Runtime')"
      ]
     },
     "execution_count": 49,
     "metadata": {},
     "output_type": "execute_result"
    },
    {
     "data": {
      "image/png": "[encoded data removed]",
      "text/plain": [
       "<matplotlib.figure.Figure at 0x7ffb4d960d30>"
      ]
     },
     "metadata": {
      "needs_background": "light"
     },
     "output_type": "display_data"
    }
   ],
   "source": [
    "#bar chart with proper labels\n",
    "locations = [1, 2]\n",
    "heights = [mean_low, mean_high]\n",
    "labels = ['Low', 'High']\n",
    "plt.bar(locations, heights, tick_label=labels)\n",
    "plt.title('Runtime by Popularity')\n",
    "plt.xlabel('Popularity')\n",
    "plt.ylabel('Runtime')"
   ]
  },
  {
   "cell_type": "markdown",
   "metadata": {},
   "source": [
    " The visual shows a bar chart with average run time and Popularity. This visual shows that as the runtime increases the movie\n",
    "is more popular. The run time is the time to watch a desired movie. Most movies will have a run time of 90 min. Hving longer\n",
    "runtime increases popularity"
   ]
  },
  {
   "cell_type": "code",
   "execution_count": null,
   "metadata": {},
   "outputs": [],
   "source": [
    "### Research Question 2: Do Movies with current Release year  more popular?"
   ]
  },
  {
   "cell_type": "code",
   "execution_count": 50,
   "metadata": {},
   "outputs": [],
   "source": [
    "\n",
    "median = pol['release_year'].median()\n",
    "low = pol.query('release_year < {}'.format(median))\n",
    "high = pol.query('release_year >= {}'.format(median))"
   ]
  },
  {
   "cell_type": "code",
   "execution_count": 51,
   "metadata": {},
   "outputs": [],
   "source": [
    "# mean \n",
    "mean_yearlow = low['popularity'].mean()\n",
    "mean_yearhigh = high['popularity'].mean()"
   ]
  },
  {
   "cell_type": "code",
   "execution_count": 53,
   "metadata": {},
   "outputs": [
    {
     "data": {
      "text/plain": [
       "Text(0,0.5,'Average Release Year')"
      ]
     },
     "execution_count": 53,
     "metadata": {},
     "output_type": "execute_result"
    },
    {
     "data": {
      "image/png": "[encoded data removed]",
      "text/plain": [
       "<matplotlib.figure.Figure at 0x7ffb4d6d76d8>"
      ]
     },
     "metadata": {
      "needs_background": "light"
     },
     "output_type": "display_data"
    }
   ],
   "source": [
    "#bar chart with proper labels\n",
    "locations = [1, 2]\n",
    "heights = [mean_yearlow, mean_yearhigh]\n",
    "labels = ['Low', 'High']\n",
    "plt.bar(locations, heights, tick_label=labels)\n",
    "plt.title('Average Year Ratings by Popularity')\n",
    "plt.xlabel('Popularity')\n",
    "plt.ylabel('Average Release Year')"
   ]
  },
  {
   "cell_type": "markdown",
   "metadata": {},
   "source": [
    "The visual shows the popularity of movie after the release  in each year. By average the higher the popularity of the movie\n",
    "is seen to increase in recent years. In our dataset as the release year is current the more popular is the movie."
   ]
  },
  {
   "cell_type": "markdown",
   "metadata": {},
   "source": [
    "# Conclusions \n",
    "The analysis of the TMDb movie dataset has showed that popularity is a dependant variable. This helped me in analysing the \n",
    "popularity of movie based on independent variables shown above. The movie popularity is esssentially ranked as to which year\n",
    "it was released, the carefully investigation of the relationship between this variables has assist the exploration of data and\n",
    "to be able to draw conlusion from the movies data.\n",
    "process used to fill missing values in column is by using means\n",
    "\n",
    "## Limitations\n",
    "* \n",
    "In the TMDb movie data set there were 40-45% columns  with missing values.This case data does not represent the actual popularity\n",
    "of movie.\n",
    "* \n",
    "Also some columns had zeros,zero budget or revenue not possible in analysis of popularity. This causes wrong analysis in \n",
    "predicting the popularity of movie. as there is no zero budget or revenue in real scenarios.\n",
    "* \n",
    "Also due to the many columns having null values, all this lead to wrong analysis which will lead to biaseness in prediction\n",
    "of the popularity of amovie in the dataset."
   ]
  },
  {
   "cell_type": "code",
   "execution_count": 20,
   "metadata": {},
   "outputs": [
    {
     "data": {
      "text/plain": [
       "0"
      ]
     },
     "execution_count": 20,
     "metadata": {},
     "output_type": "execute_result"
    }
   ],
   "source": [
    "from subprocess import call\n",
    "call(['python','-m','nbconvert','Investigate_a_Dataset.ipynb'])"
   ]
  },
  {
   "cell_type": "markdown",
   "metadata": {},
   "source": [
    "# References\n",
    "* [link to Markdown style !](https://guides.github.com/features/mastering-markdown/#examples)\n",
    "* https://chrisalbon.com/"
   ]
  },
  {
   "cell_type": "code",
   "execution_count": null,
   "metadata": {},
   "outputs": [],
   "source": []
  }
 ],
 "metadata": {
  "kernelspec": {
   "display_name": "Python 3",
   "language": "python",
   "name": "python3"
  },
  "language_info": {
   "codemirror_mode": {
    "name": "ipython",
    "version": 3
   },
   "file_extension": ".py",
   "mimetype": "text/x-python",
   "name": "python",
   "nbconvert_exporter": "python",
   "pygments_lexer": "ipython3",
   "version": "3.6.3"
  }
 },
 "nbformat": 4,
 "nbformat_minor": 2
}
